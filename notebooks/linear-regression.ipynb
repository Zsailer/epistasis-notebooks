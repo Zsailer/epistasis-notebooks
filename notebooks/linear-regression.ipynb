{
 "cells": [
  {
   "cell_type": "markdown",
   "metadata": {},
   "source": [
    "# Linear Regression to estimate high-order epistasis"
   ]
  },
  {
   "cell_type": "code",
   "execution_count": 1,
   "metadata": {},
   "outputs": [
    {
     "data": {
      "image/png": "[encoded data removed]",
      "text/plain": [
       "<matplotlib.figure.Figure at 0x108e25780>"
      ]
     },
     "execution_count": 1,
     "metadata": {},
     "output_type": "execute_result"
    }
   ],
   "source": [
    "# Import the epistasis class\n",
    "import matplotlib.pyplot as plt\n",
    "from epistasis.models import EpistasisLinearRegression\n",
    "import epistasis.plot\n",
    "\n",
    "# The data\n",
    "\n",
    "wildtype = \"000\"\n",
    "genotypes = ['000', '001', '010', '011', '100', '101', '110', '111']\n",
    "phenotypes = [ 0.366, -0.593,  1.595, -0.753,  0.38 ,  1.296,  1.025, -0.519]\n",
    "mutations = {0:[\"0\",\"1\"],1:[\"0\",\"1\"],2:[\"0\",\"1\"]}\n",
    "\n",
    "# Initialize a model\n",
    "model = EpistasisLinearRegression(order=3)\n",
    "\n",
    "# Add the data to the model\n",
    "model.add_data(wildtype, genotypes, phenotypes, mutations=mutations)\n",
    "\n",
    "# Fit the model\n",
    "model.fit()\n",
    "\n",
    "# Access the epistatic coefficients\n",
    "sites = model.epistasis.sites\n",
    "vals = model.epistasis.values\n",
    "\n",
    "fig, ax = epistasis.plot.coefs(vals, sites, figsize=(2,3))\n",
    "fig"
   ]
  },
  {
   "cell_type": "code",
   "execution_count": null,
   "metadata": {},
   "outputs": [],
   "source": []
  }
 ],
 "metadata": {
  "kernelspec": {
   "display_name": "py3",
   "language": "python",
   "name": "py3"
  },
  "language_info": {
   "codemirror_mode": {
    "name": "ipython",
    "version": 3
   },
   "file_extension": ".py",
   "mimetype": "text/x-python",
   "name": "python",
   "nbconvert_exporter": "python",
   "pygments_lexer": "ipython3",
   "version": "3.5.2"
  }
 },
 "nbformat": 4,
 "nbformat_minor": 2
}
