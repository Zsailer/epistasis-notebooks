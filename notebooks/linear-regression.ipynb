{
 "cells": [
  {
   "cell_type": "markdown",
   "metadata": {},
   "source": [
    "# Linear Regression to estimate high-order epistasis"
   ]
  },
  {
   "cell_type": "code",
   "execution_count": 4,
   "metadata": {},
   "outputs": [
    {
     "data": {
      "image/png": "[encoded data removed]",
      "text/plain": [
       "<matplotlib.figure.Figure at 0x1a16ccf5f8>"
      ]
     },
     "metadata": {},
     "output_type": "display_data"
    }
   ],
   "source": [
    "# Import the epistasis class\n",
    "import matplotlib.pyplot as plt\n",
    "from gpmap import GenotypePhenotypeMap\n",
    "from epistasis.models import EpistasisLinearRegression\n",
    "from epistasis.pyplot import plot_coefs\n",
    "\n",
    "# The data\n",
    "\n",
    "wildtype = \"000\"\n",
    "genotypes = ['000', '001', '010', '011', '100', '101', '110', '111']\n",
    "phenotypes = [ 0.366, -0.593,  1.595, -0.753,  0.38 ,  1.296,  1.025, -0.519]\n",
    "gpm = GenotypePhenotypeMap(wildtype, genotypes, phenotypes)\n",
    "\n",
    "\n",
    "# Initialize a model\n",
    "model = EpistasisLinearRegression(order=3)\n",
    "\n",
    "# Add the data to the model\n",
    "model.add_gpm(gpm)\n",
    "\n",
    "# Fit the model\n",
    "model.fit()\n",
    "\n",
    "fig, ax = plot_coefs(model, figsize=(2,3))"
   ]
  },
  {
   "cell_type": "markdown",
   "metadata": {},
   "source": [
    "To view the epistatic coefficients, call its dataframe.."
   ]
  },
  {
   "cell_type": "code",
   "execution_count": 7,
   "metadata": {},
   "outputs": [
    {
     "data": {
      "text/html": [
       "<div>\n",
       "<style scoped>\n",
       "    .dataframe tbody tr th:only-of-type {\n",
       "        vertical-align: middle;\n",
       "    }\n",
       "\n",
       "    .dataframe tbody tr th {\n",
       "        vertical-align: top;\n",
       "    }\n",
       "\n",
       "    .dataframe thead th {\n",
       "        text-align: right;\n",
       "    }\n",
       "</style>\n",
       "<table border=\"1\" class=\"dataframe\">\n",
       "  <thead>\n",
       "    <tr style=\"text-align: right;\">\n",
       "      <th></th>\n",
       "      <th>sites</th>\n",
       "      <th>values</th>\n",
       "    </tr>\n",
       "  </thead>\n",
       "  <tbody>\n",
       "    <tr>\n",
       "      <th>0</th>\n",
       "      <td>[0]</td>\n",
       "      <td>0.349625</td>\n",
       "    </tr>\n",
       "    <tr>\n",
       "      <th>1</th>\n",
       "      <td>[1]</td>\n",
       "      <td>-0.195875</td>\n",
       "    </tr>\n",
       "    <tr>\n",
       "      <th>2</th>\n",
       "      <td>[2]</td>\n",
       "      <td>0.012625</td>\n",
       "    </tr>\n",
       "    <tr>\n",
       "      <th>3</th>\n",
       "      <td>[3]</td>\n",
       "      <td>0.491875</td>\n",
       "    </tr>\n",
       "    <tr>\n",
       "      <th>4</th>\n",
       "      <td>[1, 2]</td>\n",
       "      <td>-0.279875</td>\n",
       "    </tr>\n",
       "    <tr>\n",
       "      <th>5</th>\n",
       "      <td>[1, 3]</td>\n",
       "      <td>0.334875</td>\n",
       "    </tr>\n",
       "    <tr>\n",
       "      <th>6</th>\n",
       "      <td>[2, 3]</td>\n",
       "      <td>-0.481125</td>\n",
       "    </tr>\n",
       "    <tr>\n",
       "      <th>7</th>\n",
       "      <td>[1, 2, 3]</td>\n",
       "      <td>0.133875</td>\n",
       "    </tr>\n",
       "  </tbody>\n",
       "</table>\n",
       "</div>"
      ],
      "text/plain": [
       "       sites    values\n",
       "0        [0]  0.349625\n",
       "1        [1] -0.195875\n",
       "2        [2]  0.012625\n",
       "3        [3]  0.491875\n",
       "4     [1, 2] -0.279875\n",
       "5     [1, 3]  0.334875\n",
       "6     [2, 3] -0.481125\n",
       "7  [1, 2, 3]  0.133875"
      ]
     },
     "execution_count": 7,
     "metadata": {},
     "output_type": "execute_result"
    }
   ],
   "source": [
    "model.epistasis.data"
   ]
  },
  {
   "cell_type": "markdown",
   "metadata": {},
   "source": [
    "Write dataframe"
   ]
  },
  {
   "cell_type": "code",
   "execution_count": 10,
   "metadata": {},
   "outputs": [],
   "source": [
    "model.epistasis.data.to_csv(\"coefs.csv\")"
   ]
  }
 ],
 "metadata": {
  "kernelspec": {
   "display_name": "gpseer (Python 3)",
   "language": "python",
   "name": "gpseer"
  },
  "language_info": {
   "codemirror_mode": {
    "name": "ipython",
    "version": 3
   },
   "file_extension": ".py",
   "mimetype": "text/x-python",
   "name": "python",
   "nbconvert_exporter": "python",
   "pygments_lexer": "ipython3",
   "version": "3.5.4"
  }
 },
 "nbformat": 4,
 "nbformat_minor": 2
}
