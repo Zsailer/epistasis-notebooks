{
 "cells": [
  {
   "cell_type": "markdown",
   "metadata": {},
   "source": [
    "# Epistasis logistic regression"
   ]
  },
  {
   "cell_type": "code",
   "execution_count": 17,
   "metadata": {},
   "outputs": [
    {
     "data": {
      "image/png": "[encoded data removed]",
      "text/plain": [
       "<matplotlib.figure.Figure at 0x1a1fe05c88>"
      ]
     },
     "metadata": {},
     "output_type": "display_data"
    }
   ],
   "source": [
    "# Import the epistasis class\n",
    "import matplotlib.pyplot as plt\n",
    "\n",
    "from gpmap import GenotypePhenotypeMap\n",
    "from epistasis.models import EpistasisLogisticRegression\n",
    "from epistasis.pyplot import plot_coefs\n",
    "\n",
    "# The data\n",
    "wildtype = \"000\"\n",
    "genotypes = ['000', '001', '010', '011', '100', '101', '110', '111']\n",
    "phenotypes = [ 0.366, -0.593,  1.595, -0.753,  0.38 ,  1.296,  1.025, -0.519]\n",
    "\n",
    "gpm = GenotypePhenotypeMap(wildtype, genotypes, phenotypes)\n",
    "\n",
    "# Threshold\n",
    "threshold = 1.0\n",
    "\n",
    "# Initialize a model\n",
    "model = EpistasisLogisticRegression(threshold=threshold)\n",
    "\n",
    "# Add the data to the model\n",
    "model.add_gpm(gpm)\n",
    "\n",
    "# Fit the model\n",
    "model.fit()\n",
    "\n",
    "# Access the epistatic coefficients\n",
    "fig, axes = plot_coefs(model, figsize=(1,3))"
   ]
  }
 ],
 "metadata": {
  "kernelspec": {
   "display_name": "gpseer (Python 3)",
   "language": "python",
   "name": "gpseer"
  },
  "language_info": {
   "codemirror_mode": {
    "name": "ipython",
    "version": 3
   },
   "file_extension": ".py",
   "mimetype": "text/x-python",
   "name": "python",
   "nbconvert_exporter": "python",
   "pygments_lexer": "ipython3",
   "version": "3.5.4"
  }
 },
 "nbformat": 4,
 "nbformat_minor": 2
}
