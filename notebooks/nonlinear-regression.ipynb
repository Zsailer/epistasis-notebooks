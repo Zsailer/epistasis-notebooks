{
 "cells": [
  {
   "cell_type": "markdown",
   "metadata": {},
   "source": [
    "# Linear Regression to estimate high-order epistasis"
   ]
  },
  {
   "cell_type": "code",
   "execution_count": 78,
   "metadata": {},
   "outputs": [
    {
     "data": {
      "text/plain": [
       "EpistasisNonlinearRegression(function=<function diminishing_returns at 0x10cfb52f0>,\n",
       "               model_type='local', order=2,\n",
       "               reverse=<function reverse_func at 0x10d3a6b70>)"
      ]
     },
     "execution_count": 78,
     "metadata": {},
     "output_type": "execute_result"
    }
   ],
   "source": [
    "%matplotlib inline\n",
    "import matplotlib.pyplot as plt\n",
    "import numpy as np\n",
    "\n",
    "from epistasis.models import EpistasisNonlinearRegression\n",
    "\n",
    "# Define the nonlinear relationship and it's inverse.\n",
    "def diminishing_returns(x, A):\n",
    "    return 1.0 / (1 + A * np.exp(-x))  \n",
    "\n",
    "def reverse_func(y, A):\n",
    "    return -np.log(((1 / y) - 1)/A)\n",
    "\n",
    "# Initialize the model\n",
    "model = EpistasisNonlinearRegression.from_json(\"../data/nonlinear-epistasis-dataset.json\",\n",
    "    order=2,\n",
    "    function=diminishing_returns,\n",
    "    reverse=reverse_func,\n",
    "    model_type=\"local\",\n",
    ")\n",
    "\n",
    "# Fit the model.\n",
    "model.fit(A=1)"
   ]
  },
  {
   "cell_type": "code",
   "execution_count": 84,
   "metadata": {},
   "outputs": [
    {
     "data": {
      "image/png": "[encoded data removed]",
      "text/plain": [
       "<matplotlib.figure.Figure at 0x10d757320>"
      ]
     },
     "metadata": {},
     "output_type": "display_data"
    }
   ],
   "source": [
    "padd = model.Linear.predict(model.Linear.Xfit)\n",
    "pobs = model.gpm.phenotypes\n",
    "plt.plot(padd, pobs, \"o\")\n",
    "\n",
    "xmodel = np.linspace(-1, 6)\n",
    "ymodel = model.function(xmodel, model.parameters.A)\n",
    "\n",
    "plt.plot(xmodel, ymodel, \"-r\")\n",
    "plt.xlabel(\"$P_{lin}$\", fontsize=14)\n",
    "plt.ylabel(\"$P_{obs}$\", fontsize=14)\n",
    "plt.title(\"Nonlinear epistasis model\")\n",
    "plt.show()"
   ]
  },
  {
   "cell_type": "code",
   "execution_count": 87,
   "metadata": {},
   "outputs": [],
   "source": [
    "from epistasis.plot import corr_resid_rhist, coefs"
   ]
  },
  {
   "cell_type": "code",
   "execution_count": 93,
   "metadata": {},
   "outputs": [
    {
     "data": {
      "text/plain": [
       "(<matplotlib.figure.Figure at 0x10df37860>,\n",
       " [<matplotlib.axes._subplots.AxesSubplot at 0x10df636a0>,\n",
       "  <matplotlib.axes._subplots.AxesSubplot at 0x10df7f6a0>])"
      ]
     },
     "execution_count": 93,
     "metadata": {},
     "output_type": "execute_result"
    },
    {
     "data": {
      "image/png": "[encoded data removed]",
      "text/plain": [
       "<matplotlib.figure.Figure at 0x10df37860>"
      ]
     },
     "metadata": {},
     "output_type": "display_data"
    }
   ],
   "source": [
    "coefs(model.epistasis.values, model.epistasis.sites, figsize=(2,3))"
   ]
  },
  {
   "cell_type": "code",
   "execution_count": null,
   "metadata": {},
   "outputs": [],
   "source": []
  }
 ],
 "metadata": {
  "kernelspec": {
   "display_name": "py3",
   "language": "python",
   "name": "py3"
  },
  "language_info": {
   "codemirror_mode": {
    "name": "ipython",
    "version": 3
   },
   "file_extension": ".py",
   "mimetype": "text/x-python",
   "name": "python",
   "nbconvert_exporter": "python",
   "pygments_lexer": "ipython3",
   "version": "3.5.2"
  }
 },
 "nbformat": 4,
 "nbformat_minor": 2
}
