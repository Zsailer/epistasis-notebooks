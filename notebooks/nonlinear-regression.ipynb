{
 "cells": [
  {
   "cell_type": "markdown",
   "metadata": {},
   "source": [
    "# Linear Regression to estimate high-order epistasis"
   ]
  },
  {
   "cell_type": "code",
   "execution_count": 3,
   "metadata": {},
   "outputs": [
    {
     "data": {
      "text/plain": [
       "EpistasisNonlinearRegression(function=<function diminishing_returns at 0x11623ee18>,\n",
       "               model_type='local', order=2,\n",
       "               reverse=<function reverse_func at 0x11624b048>)"
      ]
     },
     "execution_count": 3,
     "metadata": {},
     "output_type": "execute_result"
    }
   ],
   "source": [
    "%matplotlib inline\n",
    "import matplotlib.pyplot as plt\n",
    "import numpy as np\n",
    "\n",
    "from epistasis.models import EpistasisNonlinearRegression\n",
    "\n",
    "# Define the nonlinear relationship and it's inverse.\n",
    "def diminishing_returns(x, A):\n",
    "    return 1.0 / (1 + A * np.exp(-x))  \n",
    "\n",
    "def reverse_func(y, A):\n",
    "    return -np.log(((1 / y) - 1)/A)\n",
    "\n",
    "# Initialize the model\n",
    "model = EpistasisNonlinearRegression.read_json(\"../data/nonlinear-epistasis-dataset.json\",\n",
    "    order=2,\n",
    "    function=diminishing_returns,\n",
    "    reverse=reverse_func,\n",
    "    model_type=\"local\",\n",
    ")\n",
    "\n",
    "# Fit the model.\n",
    "model.fit(A=1)"
   ]
  },
  {
   "cell_type": "code",
   "execution_count": 5,
   "metadata": {},
   "outputs": [
    {
     "data": {
      "image/png": "[encoded data removed]",
      "text/plain": [
       "<matplotlib.figure.Figure at 0x118b98898>"
      ]
     },
     "metadata": {},
     "output_type": "display_data"
    }
   ],
   "source": [
    "padd = model.Linear.predict(model.Linear.Xfit)\n",
    "pobs = model.gpm.phenotypes\n",
    "plt.plot(padd, pobs, \"o\")\n",
    "\n",
    "xmodel = np.linspace(-1, 6)\n",
    "ymodel = model.function(xmodel, model.parameters.A)\n",
    "\n",
    "plt.plot(xmodel, ymodel, \"-r\")\n",
    "plt.xlabel(\"$P_{lin}$\", fontsize=14)\n",
    "plt.ylabel(\"$P_{obs}$\", fontsize=14)\n",
    "plt.title(\"Nonlinear epistasis model\")\n",
    "plt.show()"
   ]
  },
  {
   "cell_type": "code",
   "execution_count": 6,
   "metadata": {},
   "outputs": [],
   "source": [
    "from epistasis.plot import corr_resid_rhist, coefs"
   ]
  },
  {
   "cell_type": "markdown",
   "metadata": {},
   "source": [
    "Plot the coefficients"
   ]
  },
  {
   "cell_type": "code",
   "execution_count": 7,
   "metadata": {},
   "outputs": [
    {
     "data": {
      "text/plain": [
       "(<matplotlib.figure.Figure at 0x118c504e0>,\n",
       " [<matplotlib.axes._subplots.AxesSubplot at 0x118d51ef0>,\n",
       "  <matplotlib.axes._subplots.AxesSubplot at 0x118edd4e0>])"
      ]
     },
     "execution_count": 7,
     "metadata": {},
     "output_type": "execute_result"
    },
    {
     "data": {
      "image/png": "[encoded data removed]",
      "text/plain": [
       "<matplotlib.figure.Figure at 0x118c504e0>"
      ]
     },
     "metadata": {},
     "output_type": "display_data"
    }
   ],
   "source": [
    "coefs(model.epistasis.values, model.epistasis.sites, figsize=(2,3))"
   ]
  },
  {
   "cell_type": "markdown",
   "metadata": {},
   "source": [
    "See dataframe"
   ]
  },
  {
   "cell_type": "code",
   "execution_count": 8,
   "metadata": {},
   "outputs": [
    {
     "data": {
      "text/html": [
       "<div>\n",
       "<style>\n",
       "    .dataframe thead tr:only-child th {\n",
       "        text-align: right;\n",
       "    }\n",
       "\n",
       "    .dataframe thead th {\n",
       "        text-align: left;\n",
       "    }\n",
       "\n",
       "    .dataframe tbody tr th {\n",
       "        vertical-align: top;\n",
       "    }\n",
       "</style>\n",
       "<table border=\"1\" class=\"dataframe\">\n",
       "  <thead>\n",
       "    <tr style=\"text-align: right;\">\n",
       "      <th></th>\n",
       "      <th>sites</th>\n",
       "      <th>values</th>\n",
       "      <th>stdeviations</th>\n",
       "    </tr>\n",
       "  </thead>\n",
       "  <tbody>\n",
       "    <tr>\n",
       "      <th>0</th>\n",
       "      <td>0</td>\n",
       "      <td>-0.754271</td>\n",
       "      <td>NaN</td>\n",
       "    </tr>\n",
       "    <tr>\n",
       "      <th>1</th>\n",
       "      <td>1</td>\n",
       "      <td>0.316071</td>\n",
       "      <td>NaN</td>\n",
       "    </tr>\n",
       "    <tr>\n",
       "      <th>2</th>\n",
       "      <td>2</td>\n",
       "      <td>1.572561</td>\n",
       "      <td>NaN</td>\n",
       "    </tr>\n",
       "    <tr>\n",
       "      <th>3</th>\n",
       "      <td>3</td>\n",
       "      <td>0.574900</td>\n",
       "      <td>NaN</td>\n",
       "    </tr>\n",
       "    <tr>\n",
       "      <th>4</th>\n",
       "      <td>4</td>\n",
       "      <td>0.442576</td>\n",
       "      <td>NaN</td>\n",
       "    </tr>\n",
       "    <tr>\n",
       "      <th>5</th>\n",
       "      <td>1,2</td>\n",
       "      <td>0.387853</td>\n",
       "      <td>NaN</td>\n",
       "    </tr>\n",
       "    <tr>\n",
       "      <th>6</th>\n",
       "      <td>1,3</td>\n",
       "      <td>0.631311</td>\n",
       "      <td>NaN</td>\n",
       "    </tr>\n",
       "    <tr>\n",
       "      <th>7</th>\n",
       "      <td>1,4</td>\n",
       "      <td>1.169253</td>\n",
       "      <td>NaN</td>\n",
       "    </tr>\n",
       "    <tr>\n",
       "      <th>8</th>\n",
       "      <td>2,3</td>\n",
       "      <td>0.017155</td>\n",
       "      <td>NaN</td>\n",
       "    </tr>\n",
       "    <tr>\n",
       "      <th>9</th>\n",
       "      <td>2,4</td>\n",
       "      <td>0.056421</td>\n",
       "      <td>NaN</td>\n",
       "    </tr>\n",
       "    <tr>\n",
       "      <th>10</th>\n",
       "      <td>3,4</td>\n",
       "      <td>1.874228</td>\n",
       "      <td>NaN</td>\n",
       "    </tr>\n",
       "  </tbody>\n",
       "</table>\n",
       "</div>"
      ],
      "text/plain": [
       "   sites    values  stdeviations\n",
       "0      0 -0.754271           NaN\n",
       "1      1  0.316071           NaN\n",
       "2      2  1.572561           NaN\n",
       "3      3  0.574900           NaN\n",
       "4      4  0.442576           NaN\n",
       "5    1,2  0.387853           NaN\n",
       "6    1,3  0.631311           NaN\n",
       "7    1,4  1.169253           NaN\n",
       "8    2,3  0.017155           NaN\n",
       "9    2,4  0.056421           NaN\n",
       "10   3,4  1.874228           NaN"
      ]
     },
     "execution_count": 8,
     "metadata": {},
     "output_type": "execute_result"
    }
   ],
   "source": [
    "model.epistasis.df"
   ]
  },
  {
   "cell_type": "markdown",
   "metadata": {},
   "source": [
    "Write dataframe"
   ]
  },
  {
   "cell_type": "code",
   "execution_count": 10,
   "metadata": {},
   "outputs": [],
   "source": [
    "model.epistasis.df.to_csv(\"coefs.csv\")"
   ]
  }
 ],
 "metadata": {
  "kernelspec": {
   "display_name": "Python 3",
   "language": "python",
   "name": "python3"
  },
  "language_info": {
   "codemirror_mode": {
    "name": "ipython",
    "version": 3
   },
   "file_extension": ".py",
   "mimetype": "text/x-python",
   "name": "python",
   "nbconvert_exporter": "python",
   "pygments_lexer": "ipython3",
   "version": "3.6.2"
  }
 },
 "nbformat": 4,
 "nbformat_minor": 2
}
