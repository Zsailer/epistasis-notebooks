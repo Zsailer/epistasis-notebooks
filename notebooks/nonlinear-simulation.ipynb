{
 "cells": [
  {
   "cell_type": "markdown",
   "metadata": {},
   "source": [
    "# Nonlinear simulation"
   ]
  },
  {
   "cell_type": "code",
   "execution_count": 1,
   "metadata": {},
   "outputs": [],
   "source": [
    "import matplotlib.pyplot as plt\n",
    "import numpy as np\n",
    "\n",
    "from epistasis.simulate import NonlinearSimulation"
   ]
  },
  {
   "cell_type": "code",
   "execution_count": 2,
   "metadata": {},
   "outputs": [
    {
     "data": {
      "image/png": "[encoded data removed]",
      "text/plain": [
       "<matplotlib.figure.Figure at 0x10f4fe630>"
      ]
     },
     "metadata": {},
     "output_type": "display_data"
    }
   ],
   "source": [
    "# Define some nonlinear function\n",
    "def diminishing_returns(x, A):\n",
    "    return 1.0 / (1 + A * np.exp(-x))  \n",
    "\n",
    "x = np.linspace(0,5, 1000)\n",
    "y = diminishing_returns(x, 2)\n",
    "plt.plot(x, y)\n",
    "plt.title(\"Diminishing returns function\")\n",
    "plt.show()"
   ]
  },
  {
   "cell_type": "code",
   "execution_count": 3,
   "metadata": {},
   "outputs": [],
   "source": [
    "# Define the wildtype/ancestor of \n",
    "# the genotype-phenotype map.\n",
    "wildtype = \"0000\"\n",
    "mutations = {\n",
    "    0: [\"0\",\"1\"],\n",
    "    1: [\"0\",\"1\"],\n",
    "    2: [\"0\",\"1\"],\n",
    "    3: [\"0\",\"1\"]\n",
    "}\n",
    "\n",
    "# Initialize the simulation.\n",
    "# The simulation takes the nonlinear function as an argument\n",
    "# and the p0 takes values for any extra parametes in the function.\n",
    "\n",
    "sim = NonlinearSimulation(wildtype, mutations, \n",
    "    function=diminishing_returns, \n",
    "    p0=[2], \n",
    "    model_type=\"local\")\n",
    "\n",
    "# Set the epistatis coefficients\n",
    "sim.set_coefs_order(2)\n",
    "sim.set_coefs_random((-.1,2))"
   ]
  },
  {
   "cell_type": "code",
   "execution_count": 4,
   "metadata": {},
   "outputs": [
    {
     "data": {
      "text/plain": [
       "0     1.338229\n",
       "1     0.960179\n",
       "2     1.257494\n",
       "3     0.599774\n",
       "4     0.433272\n",
       "5    -0.047582\n",
       "6     0.080350\n",
       "7     0.346354\n",
       "8     1.981023\n",
       "9     1.603164\n",
       "10    0.044281\n",
       "dtype: float64"
      ]
     },
     "execution_count": 4,
     "metadata": {},
     "output_type": "execute_result"
    }
   ],
   "source": [
    "sim.epistasis.values"
   ]
  },
  {
   "cell_type": "code",
   "execution_count": 5,
   "metadata": {},
   "outputs": [
    {
     "data": {
      "image/png": "[encoded data removed]",
      "text/plain": [
       "<matplotlib.figure.Figure at 0x111b13a90>"
      ]
     },
     "metadata": {},
     "output_type": "display_data"
    }
   ],
   "source": [
    "plt.plot(sim.p_additive, sim.phenotypes, 'o')\n",
    "plt.xlabel(\"additive phenotype\")\n",
    "plt.ylabel(\"nonlinear phenotypes\")\n",
    "plt.show()"
   ]
  },
  {
   "cell_type": "code",
   "execution_count": 17,
   "metadata": {},
   "outputs": [],
   "source": [
    "sim.to_json(\"../data/nonlinear-epistasis-dataset.json\")"
   ]
  },
  {
   "cell_type": "code",
   "execution_count": null,
   "metadata": {},
   "outputs": [],
   "source": []
  }
 ],
 "metadata": {
  "kernelspec": {
   "display_name": "Python 3",
   "language": "python",
   "name": "python3"
  },
  "language_info": {
   "codemirror_mode": {
    "name": "ipython",
    "version": 3
   },
   "file_extension": ".py",
   "mimetype": "text/x-python",
   "name": "python",
   "nbconvert_exporter": "python",
   "pygments_lexer": "ipython3",
   "version": "3.6.2"
  }
 },
 "nbformat": 4,
 "nbformat_minor": 2
}
