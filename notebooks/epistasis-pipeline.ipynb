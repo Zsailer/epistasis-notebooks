{
 "cells": [
  {
   "cell_type": "markdown",
   "metadata": {},
   "source": [
    "# Epistasis Pipeline\n",
    "\n",
    "Use an Epistasis Pipeline to fit the nonlinear scale with a power transform, then estimate the high-order epistasis coefficients with a linear regression."
   ]
  },
  {
   "cell_type": "code",
   "execution_count": 9,
   "metadata": {},
   "outputs": [],
   "source": [
    "%matplotlib inline\n",
    "import matplotlib.pyplot as plt\n",
    "import numpy as np\n",
    "\n",
    "from gpmap import GenotypePhenotypeMap\n",
    "from epistasis.models import (EpistasisPowerTransform, \n",
    "                              EpistasisLinearRegression,\n",
    "                              EpistasisPipeline)\n",
    "\n",
    "from epistasis.pyplot import plot_power_transform, plot_coefs"
   ]
  },
  {
   "cell_type": "markdown",
   "metadata": {},
   "source": [
    "Load data into a GenotypePhenotypeMap."
   ]
  },
  {
   "cell_type": "code",
   "execution_count": 10,
   "metadata": {},
   "outputs": [],
   "source": [
    "gpm = GenotypePhenotypeMap.read_json(\"../data/nonlinear-epistasis-dataset.json\")"
   ]
  },
  {
   "cell_type": "markdown",
   "metadata": {},
   "source": [
    "Create a pipeline and fit the models. "
   ]
  },
  {
   "cell_type": "code",
   "execution_count": 11,
   "metadata": {},
   "outputs": [
    {
     "data": {
      "text/plain": [
       "[EpistasisPowerTransform(model_type='global'),\n",
       " EpistasisLinearRegression(model_type='global', n_jobs=1, order=4)]"
      ]
     },
     "execution_count": 11,
     "metadata": {},
     "output_type": "execute_result"
    }
   ],
   "source": [
    "# Initialize the model\n",
    "model = EpistasisPipeline([\n",
    "    EpistasisPowerTransform(lmbda=2, A=1, B=1),\n",
    "    EpistasisLinearRegression(order=4)\n",
    "])\n",
    "model.add_gpm(gpm)\n",
    "\n",
    "# Fit the model.\n",
    "model.fit()"
   ]
  },
  {
   "cell_type": "markdown",
   "metadata": {},
   "source": [
    "Plot the nonlinear scale."
   ]
  },
  {
   "cell_type": "code",
   "execution_count": 16,
   "metadata": {},
   "outputs": [
    {
     "data": {
      "text/plain": [
       "<matplotlib.axes._subplots.AxesSubplot at 0x1a1710fd68>"
      ]
     },
     "execution_count": 16,
     "metadata": {},
     "output_type": "execute_result"
    },
    {
     "data": {
      "image/png": "[encoded data removed]",
      "text/plain": [
       "<matplotlib.figure.Figure at 0x1a1718a7f0>"
      ]
     },
     "metadata": {},
     "output_type": "display_data"
    }
   ],
   "source": [
    "fig, ax = plt.subplots(figsize=(3,3))\n",
    "plot_power_transform(model[0], ax=ax)"
   ]
  },
  {
   "cell_type": "markdown",
   "metadata": {},
   "source": [
    "Plot the coefficients."
   ]
  },
  {
   "cell_type": "code",
   "execution_count": 17,
   "metadata": {},
   "outputs": [
    {
     "data": {
      "text/plain": [
       "(<matplotlib.figure.Figure at 0x1a169dcef0>,\n",
       " [<matplotlib.axes._subplots.AxesSubplot at 0x1a17198eb8>,\n",
       "  <matplotlib.axes._subplots.AxesSubplot at 0x1a171e8f60>])"
      ]
     },
     "execution_count": 17,
     "metadata": {},
     "output_type": "execute_result"
    },
    {
     "data": {
      "image/png": "[encoded data removed]",
      "text/plain": [
       "<matplotlib.figure.Figure at 0x1a169dcef0>"
      ]
     },
     "metadata": {},
     "output_type": "display_data"
    }
   ],
   "source": [
    "plot_coefs(model[1], figsize=(3,4))"
   ]
  }
 ],
 "metadata": {
  "kernelspec": {
   "display_name": "gpseer (Python 3)",
   "language": "python",
   "name": "gpseer"
  },
  "language_info": {
   "codemirror_mode": {
    "name": "ipython",
    "version": 3
   },
   "file_extension": ".py",
   "mimetype": "text/x-python",
   "name": "python",
   "nbconvert_exporter": "python",
   "pygments_lexer": "ipython3",
   "version": "3.5.4"
  }
 },
 "nbformat": 4,
 "nbformat_minor": 2
}
